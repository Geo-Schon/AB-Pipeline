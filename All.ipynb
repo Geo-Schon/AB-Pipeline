{
 "cells": [
  {
   "cell_type": "code",
   "execution_count": 103,
   "id": "c9785962-a7e1-4ade-9032-14e20184504f",
   "metadata": {
    "tags": []
   },
   "outputs": [],
   "source": [
    "from scipy.stats import ttest_1samp\n",
    "from scipy.stats import ttest_ind\n",
    "from scipy.stats import kstest\n",
    "from scipy.stats import mannwhitneyu\n",
    "from scipy.stats import norm\n",
    "\n",
    "import pandas as pd\n",
    "import numpy as np\n",
    "import seaborn as sns\n",
    "\n",
    "from tqdm import tqdm\n",
    "import matplotlib.pyplot as plt\n",
    "\n",
    "import warnings\n",
    "warnings.simplefilter(\"ignore\")"
   ]
  },
  {
   "cell_type": "code",
   "execution_count": 104,
   "id": "81683003-57f6-4b85-abc9-204eb6b213be",
   "metadata": {
    "tags": []
   },
   "outputs": [],
   "source": [
    "data = pd.read_excel('AB_Test_Results.xlsx')"
   ]
  },
  {
   "cell_type": "code",
   "execution_count": 105,
   "id": "e2e2563a-0a3d-43bc-9a9c-fe10815307d0",
   "metadata": {
    "tags": []
   },
   "outputs": [
    {
     "name": "stdout",
     "output_type": "stream",
     "text": [
      "<class 'pandas.core.frame.DataFrame'>\n",
      "RangeIndex: 10000 entries, 0 to 9999\n",
      "Data columns (total 3 columns):\n",
      " #   Column        Non-Null Count  Dtype  \n",
      "---  ------        --------------  -----  \n",
      " 0   USER_ID       10000 non-null  int64  \n",
      " 1   VARIANT_NAME  10000 non-null  object \n",
      " 2   REVENUE       10000 non-null  float64\n",
      "dtypes: float64(1), int64(1), object(1)\n",
      "memory usage: 234.5+ KB\n"
     ]
    }
   ],
   "source": [
    "data.info()"
   ]
  },
  {
   "cell_type": "code",
   "execution_count": 106,
   "id": "f1b33f27-7e12-45b6-900f-afcefb9a1589",
   "metadata": {
    "tags": []
   },
   "outputs": [
    {
     "data": {
      "text/html": [
       "<div>\n",
       "<style scoped>\n",
       "    .dataframe tbody tr th:only-of-type {\n",
       "        vertical-align: middle;\n",
       "    }\n",
       "\n",
       "    .dataframe tbody tr th {\n",
       "        vertical-align: top;\n",
       "    }\n",
       "\n",
       "    .dataframe thead th {\n",
       "        text-align: right;\n",
       "    }\n",
       "</style>\n",
       "<table border=\"1\" class=\"dataframe\">\n",
       "  <thead>\n",
       "    <tr style=\"text-align: right;\">\n",
       "      <th></th>\n",
       "      <th>USER_ID</th>\n",
       "      <th>VARIANT_NAME</th>\n",
       "      <th>REVENUE</th>\n",
       "    </tr>\n",
       "  </thead>\n",
       "  <tbody>\n",
       "    <tr>\n",
       "      <th>0</th>\n",
       "      <td>737</td>\n",
       "      <td>variant</td>\n",
       "      <td>0.00</td>\n",
       "    </tr>\n",
       "    <tr>\n",
       "      <th>1</th>\n",
       "      <td>2423</td>\n",
       "      <td>control</td>\n",
       "      <td>0.00</td>\n",
       "    </tr>\n",
       "    <tr>\n",
       "      <th>2</th>\n",
       "      <td>9411</td>\n",
       "      <td>control</td>\n",
       "      <td>0.00</td>\n",
       "    </tr>\n",
       "    <tr>\n",
       "      <th>3</th>\n",
       "      <td>7311</td>\n",
       "      <td>control</td>\n",
       "      <td>0.00</td>\n",
       "    </tr>\n",
       "    <tr>\n",
       "      <th>4</th>\n",
       "      <td>6174</td>\n",
       "      <td>variant</td>\n",
       "      <td>0.00</td>\n",
       "    </tr>\n",
       "  </tbody>\n",
       "</table>\n",
       "</div>"
      ],
      "text/plain": [
       "   USER_ID VARIANT_NAME  REVENUE\n",
       "0      737      variant     0.00\n",
       "1     2423      control     0.00\n",
       "2     9411      control     0.00\n",
       "3     7311      control     0.00\n",
       "4     6174      variant     0.00"
      ]
     },
     "execution_count": 106,
     "metadata": {},
     "output_type": "execute_result"
    }
   ],
   "source": [
    "data.head()"
   ]
  },
  {
   "cell_type": "code",
   "execution_count": 107,
   "id": "b18a3872-b4db-43e1-8102-be1fe2c3cf28",
   "metadata": {
    "tags": []
   },
   "outputs": [
    {
     "data": {
      "text/plain": [
       "(10000, 3)"
      ]
     },
     "execution_count": 107,
     "metadata": {},
     "output_type": "execute_result"
    }
   ],
   "source": [
    "data.shape"
   ]
  },
  {
   "cell_type": "code",
   "execution_count": 108,
   "id": "cf598c6c-bc4e-40cf-947f-641d2c55f440",
   "metadata": {
    "tags": []
   },
   "outputs": [
    {
     "data": {
      "text/html": [
       "<div>\n",
       "<style scoped>\n",
       "    .dataframe tbody tr th:only-of-type {\n",
       "        vertical-align: middle;\n",
       "    }\n",
       "\n",
       "    .dataframe tbody tr th {\n",
       "        vertical-align: top;\n",
       "    }\n",
       "\n",
       "    .dataframe thead th {\n",
       "        text-align: right;\n",
       "    }\n",
       "</style>\n",
       "<table border=\"1\" class=\"dataframe\">\n",
       "  <thead>\n",
       "    <tr style=\"text-align: right;\">\n",
       "      <th></th>\n",
       "      <th>USER_ID</th>\n",
       "      <th>REVENUE</th>\n",
       "    </tr>\n",
       "  </thead>\n",
       "  <tbody>\n",
       "    <tr>\n",
       "      <th>count</th>\n",
       "      <td>10,000.00</td>\n",
       "      <td>10,000.00</td>\n",
       "    </tr>\n",
       "    <tr>\n",
       "      <th>mean</th>\n",
       "      <td>4,981.08</td>\n",
       "      <td>0.10</td>\n",
       "    </tr>\n",
       "    <tr>\n",
       "      <th>std</th>\n",
       "      <td>2,890.59</td>\n",
       "      <td>2.32</td>\n",
       "    </tr>\n",
       "    <tr>\n",
       "      <th>min</th>\n",
       "      <td>2.00</td>\n",
       "      <td>0.00</td>\n",
       "    </tr>\n",
       "    <tr>\n",
       "      <th>25%</th>\n",
       "      <td>2,468.75</td>\n",
       "      <td>0.00</td>\n",
       "    </tr>\n",
       "    <tr>\n",
       "      <th>50%</th>\n",
       "      <td>4,962.00</td>\n",
       "      <td>0.00</td>\n",
       "    </tr>\n",
       "    <tr>\n",
       "      <th>75%</th>\n",
       "      <td>7,511.50</td>\n",
       "      <td>0.00</td>\n",
       "    </tr>\n",
       "    <tr>\n",
       "      <th>max</th>\n",
       "      <td>10,000.00</td>\n",
       "      <td>196.01</td>\n",
       "    </tr>\n",
       "  </tbody>\n",
       "</table>\n",
       "</div>"
      ],
      "text/plain": [
       "        USER_ID   REVENUE\n",
       "count 10,000.00 10,000.00\n",
       "mean   4,981.08      0.10\n",
       "std    2,890.59      2.32\n",
       "min        2.00      0.00\n",
       "25%    2,468.75      0.00\n",
       "50%    4,962.00      0.00\n",
       "75%    7,511.50      0.00\n",
       "max   10,000.00    196.01"
      ]
     },
     "execution_count": 108,
     "metadata": {},
     "output_type": "execute_result"
    }
   ],
   "source": [
    "data.describe()"
   ]
  },
  {
   "cell_type": "code",
   "execution_count": 109,
   "id": "1caeb91e-16f7-479e-a230-f73ce827d2d3",
   "metadata": {
    "tags": []
   },
   "outputs": [
    {
     "data": {
      "text/plain": [
       "USER_ID         0\n",
       "VARIANT_NAME    0\n",
       "REVENUE         0\n",
       "dtype: int64"
      ]
     },
     "execution_count": 109,
     "metadata": {},
     "output_type": "execute_result"
    }
   ],
   "source": [
    "data.isna().sum()"
   ]
  },
  {
   "cell_type": "code",
   "execution_count": 110,
   "id": "29981bc5-339a-4602-b3ef-c70063431d16",
   "metadata": {
    "tags": []
   },
   "outputs": [
    {
     "data": {
      "text/plain": [
       "variant    5016\n",
       "control    4984\n",
       "Name: VARIANT_NAME, dtype: int64"
      ]
     },
     "execution_count": 110,
     "metadata": {},
     "output_type": "execute_result"
    }
   ],
   "source": [
    "data.VARIANT_NAME.value_counts()"
   ]
  },
  {
   "cell_type": "code",
   "execution_count": 111,
   "id": "e1289050-d357-45a9-9e29-f8bea16bec5f",
   "metadata": {
    "tags": []
   },
   "outputs": [
    {
     "data": {
      "text/html": [
       "<div>\n",
       "<style scoped>\n",
       "    .dataframe tbody tr th:only-of-type {\n",
       "        vertical-align: middle;\n",
       "    }\n",
       "\n",
       "    .dataframe tbody tr th {\n",
       "        vertical-align: top;\n",
       "    }\n",
       "\n",
       "    .dataframe thead th {\n",
       "        text-align: right;\n",
       "    }\n",
       "</style>\n",
       "<table border=\"1\" class=\"dataframe\">\n",
       "  <thead>\n",
       "    <tr style=\"text-align: right;\">\n",
       "      <th></th>\n",
       "      <th>USER_ID</th>\n",
       "      <th>VARIANT_NAME</th>\n",
       "      <th>REVENUE</th>\n",
       "    </tr>\n",
       "  </thead>\n",
       "  <tbody>\n",
       "    <tr>\n",
       "      <th>13</th>\n",
       "      <td>2529</td>\n",
       "      <td>variant</td>\n",
       "      <td>2.15</td>\n",
       "    </tr>\n",
       "    <tr>\n",
       "      <th>49</th>\n",
       "      <td>6429</td>\n",
       "      <td>control</td>\n",
       "      <td>3.25</td>\n",
       "    </tr>\n",
       "    <tr>\n",
       "      <th>139</th>\n",
       "      <td>3331</td>\n",
       "      <td>variant</td>\n",
       "      <td>4.27</td>\n",
       "    </tr>\n",
       "    <tr>\n",
       "      <th>149</th>\n",
       "      <td>8110</td>\n",
       "      <td>variant</td>\n",
       "      <td>1.75</td>\n",
       "    </tr>\n",
       "    <tr>\n",
       "      <th>152</th>\n",
       "      <td>8607</td>\n",
       "      <td>control</td>\n",
       "      <td>2.99</td>\n",
       "    </tr>\n",
       "    <tr>\n",
       "      <th>...</th>\n",
       "      <td>...</td>\n",
       "      <td>...</td>\n",
       "      <td>...</td>\n",
       "    </tr>\n",
       "    <tr>\n",
       "      <th>9651</th>\n",
       "      <td>9928</td>\n",
       "      <td>variant</td>\n",
       "      <td>1.25</td>\n",
       "    </tr>\n",
       "    <tr>\n",
       "      <th>9711</th>\n",
       "      <td>6468</td>\n",
       "      <td>control</td>\n",
       "      <td>2.93</td>\n",
       "    </tr>\n",
       "    <tr>\n",
       "      <th>9724</th>\n",
       "      <td>5205</td>\n",
       "      <td>control</td>\n",
       "      <td>14.17</td>\n",
       "    </tr>\n",
       "    <tr>\n",
       "      <th>9725</th>\n",
       "      <td>702</td>\n",
       "      <td>variant</td>\n",
       "      <td>2.92</td>\n",
       "    </tr>\n",
       "    <tr>\n",
       "      <th>9977</th>\n",
       "      <td>4678</td>\n",
       "      <td>variant</td>\n",
       "      <td>1.01</td>\n",
       "    </tr>\n",
       "  </tbody>\n",
       "</table>\n",
       "<p>152 rows × 3 columns</p>\n",
       "</div>"
      ],
      "text/plain": [
       "      USER_ID VARIANT_NAME  REVENUE\n",
       "13       2529      variant     2.15\n",
       "49       6429      control     3.25\n",
       "139      3331      variant     4.27\n",
       "149      8110      variant     1.75\n",
       "152      8607      control     2.99\n",
       "...       ...          ...      ...\n",
       "9651     9928      variant     1.25\n",
       "9711     6468      control     2.93\n",
       "9724     5205      control    14.17\n",
       "9725      702      variant     2.92\n",
       "9977     4678      variant     1.01\n",
       "\n",
       "[152 rows x 3 columns]"
      ]
     },
     "execution_count": 111,
     "metadata": {},
     "output_type": "execute_result"
    }
   ],
   "source": [
    "new_data = data[data['REVENUE'] > 0]\n",
    "new_data"
   ]
  },
  {
   "cell_type": "markdown",
   "id": "8fc59f25-10c8-41fd-bb08-7ecbb69e683b",
   "metadata": {},
   "source": [
    "Данные распределены примерно поровну 5016-4984. Пустых данных и отрицательных значений выручки REVENUE в наборе данных нет, т.е. ошибочных значений в этом поле нет."
   ]
  },
  {
   "cell_type": "code",
   "execution_count": 112,
   "id": "c757b6a7-2981-4ce3-824c-0b59cd77711b",
   "metadata": {
    "tags": []
   },
   "outputs": [
    {
     "data": {
      "text/html": [
       "<div>\n",
       "<style scoped>\n",
       "    .dataframe tbody tr th:only-of-type {\n",
       "        vertical-align: middle;\n",
       "    }\n",
       "\n",
       "    .dataframe tbody tr th {\n",
       "        vertical-align: top;\n",
       "    }\n",
       "\n",
       "    .dataframe thead th {\n",
       "        text-align: right;\n",
       "    }\n",
       "</style>\n",
       "<table border=\"1\" class=\"dataframe\">\n",
       "  <thead>\n",
       "    <tr style=\"text-align: right;\">\n",
       "      <th></th>\n",
       "      <th>USER_ID</th>\n",
       "      <th>REVENUE</th>\n",
       "    </tr>\n",
       "  </thead>\n",
       "  <tbody>\n",
       "    <tr>\n",
       "      <th>count</th>\n",
       "      <td>72.00</td>\n",
       "      <td>72.00</td>\n",
       "    </tr>\n",
       "    <tr>\n",
       "      <th>mean</th>\n",
       "      <td>5,306.96</td>\n",
       "      <td>4.88</td>\n",
       "    </tr>\n",
       "    <tr>\n",
       "      <th>std</th>\n",
       "      <td>3,116.54</td>\n",
       "      <td>9.91</td>\n",
       "    </tr>\n",
       "    <tr>\n",
       "      <th>min</th>\n",
       "      <td>56.00</td>\n",
       "      <td>0.02</td>\n",
       "    </tr>\n",
       "    <tr>\n",
       "      <th>25%</th>\n",
       "      <td>2,707.50</td>\n",
       "      <td>1.25</td>\n",
       "    </tr>\n",
       "    <tr>\n",
       "      <th>50%</th>\n",
       "      <td>5,721.00</td>\n",
       "      <td>2.17</td>\n",
       "    </tr>\n",
       "    <tr>\n",
       "      <th>75%</th>\n",
       "      <td>7,963.75</td>\n",
       "      <td>3.97</td>\n",
       "    </tr>\n",
       "    <tr>\n",
       "      <th>max</th>\n",
       "      <td>9,996.00</td>\n",
       "      <td>58.63</td>\n",
       "    </tr>\n",
       "  </tbody>\n",
       "</table>\n",
       "</div>"
      ],
      "text/plain": [
       "       USER_ID  REVENUE\n",
       "count    72.00    72.00\n",
       "mean  5,306.96     4.88\n",
       "std   3,116.54     9.91\n",
       "min      56.00     0.02\n",
       "25%   2,707.50     1.25\n",
       "50%   5,721.00     2.17\n",
       "75%   7,963.75     3.97\n",
       "max   9,996.00    58.63"
      ]
     },
     "execution_count": 112,
     "metadata": {},
     "output_type": "execute_result"
    }
   ],
   "source": [
    "new_data[data['VARIANT_NAME']=='variant'].describe()"
   ]
  },
  {
   "cell_type": "code",
   "execution_count": 113,
   "id": "fe9a6518-430c-4717-a255-bbb1bc5e0560",
   "metadata": {
    "tags": []
   },
   "outputs": [
    {
     "data": {
      "text/html": [
       "<div>\n",
       "<style scoped>\n",
       "    .dataframe tbody tr th:only-of-type {\n",
       "        vertical-align: middle;\n",
       "    }\n",
       "\n",
       "    .dataframe tbody tr th {\n",
       "        vertical-align: top;\n",
       "    }\n",
       "\n",
       "    .dataframe thead th {\n",
       "        text-align: right;\n",
       "    }\n",
       "</style>\n",
       "<table border=\"1\" class=\"dataframe\">\n",
       "  <thead>\n",
       "    <tr style=\"text-align: right;\">\n",
       "      <th></th>\n",
       "      <th>USER_ID</th>\n",
       "      <th>REVENUE</th>\n",
       "    </tr>\n",
       "  </thead>\n",
       "  <tbody>\n",
       "    <tr>\n",
       "      <th>count</th>\n",
       "      <td>80.00</td>\n",
       "      <td>80.00</td>\n",
       "    </tr>\n",
       "    <tr>\n",
       "      <th>mean</th>\n",
       "      <td>4,461.95</td>\n",
       "      <td>8.04</td>\n",
       "    </tr>\n",
       "    <tr>\n",
       "      <th>std</th>\n",
       "      <td>2,826.39</td>\n",
       "      <td>22.50</td>\n",
       "    </tr>\n",
       "    <tr>\n",
       "      <th>min</th>\n",
       "      <td>124.00</td>\n",
       "      <td>0.02</td>\n",
       "    </tr>\n",
       "    <tr>\n",
       "      <th>25%</th>\n",
       "      <td>2,037.50</td>\n",
       "      <td>1.52</td>\n",
       "    </tr>\n",
       "    <tr>\n",
       "      <th>50%</th>\n",
       "      <td>4,327.00</td>\n",
       "      <td>2.96</td>\n",
       "    </tr>\n",
       "    <tr>\n",
       "      <th>75%</th>\n",
       "      <td>6,636.75</td>\n",
       "      <td>6.66</td>\n",
       "    </tr>\n",
       "    <tr>\n",
       "      <th>max</th>\n",
       "      <td>9,766.00</td>\n",
       "      <td>196.01</td>\n",
       "    </tr>\n",
       "  </tbody>\n",
       "</table>\n",
       "</div>"
      ],
      "text/plain": [
       "       USER_ID  REVENUE\n",
       "count    80.00    80.00\n",
       "mean  4,461.95     8.04\n",
       "std   2,826.39    22.50\n",
       "min     124.00     0.02\n",
       "25%   2,037.50     1.52\n",
       "50%   4,327.00     2.96\n",
       "75%   6,636.75     6.66\n",
       "max   9,766.00   196.01"
      ]
     },
     "execution_count": 113,
     "metadata": {},
     "output_type": "execute_result"
    }
   ],
   "source": [
    "new_data[data['VARIANT_NAME']=='control'].describe()"
   ]
  },
  {
   "cell_type": "code",
   "execution_count": 114,
   "id": "235be111-3f44-49e8-8250-e6a04d72aa7c",
   "metadata": {
    "tags": []
   },
   "outputs": [
    {
     "data": {
      "image/png": "[encoded data removed]",
      "text/plain": [
       "<Figure size 1500x1000 with 1 Axes>"
      ]
     },
     "metadata": {},
     "output_type": "display_data"
    }
   ],
   "source": [
    "plt.figure(figsize=(15, 10))\n",
    "control_visit_all = new_data['REVENUE'][data['VARIANT_NAME']=='control']\n",
    "test_visit_all = new_data['REVENUE'][data['VARIANT_NAME']=='variant']\n",
    "\n",
    "plt.hist(control_visit_all, color='r', bins=30)\n",
    "plt.hist(test_visit_all, color='b', bins=30)\n",
    "\n",
    "plt.show()"
   ]
  },
  {
   "cell_type": "code",
   "execution_count": 115,
   "id": "7f247fda-0171-4e5c-81d5-529c6dc978bf",
   "metadata": {
    "tags": []
   },
   "outputs": [
    {
     "data": {
      "text/plain": [
       "Ttest_indResult(statistic=1.1379124979933528, pvalue=0.25760685398932337)"
      ]
     },
     "execution_count": 115,
     "metadata": {},
     "output_type": "execute_result"
    }
   ],
   "source": [
    "ttest_ind(control_visit_all, test_visit_all, equal_var = False)"
   ]
  },
  {
   "cell_type": "markdown",
   "id": "af6a178b-8d83-4e69-9096-c1efc18ee78c",
   "metadata": {},
   "source": [
    "Т.к. pvalue > 0.05, то статистически значимых различий выявлено"
   ]
  },
  {
   "cell_type": "code",
   "execution_count": 116,
   "id": "31be842f-474d-4654-a8e9-aeed2ae5a281",
   "metadata": {
    "tags": []
   },
   "outputs": [
    {
     "data": {
      "text/plain": [
       "MannwhitneyuResult(statistic=3356.0, pvalue=0.07924299810603061)"
      ]
     },
     "execution_count": 116,
     "metadata": {},
     "output_type": "execute_result"
    }
   ],
   "source": [
    "mannwhitneyu(control_visit_all, test_visit_all)"
   ]
  },
  {
   "cell_type": "markdown",
   "id": "62c9bbd5-7817-4369-815a-332666d6fe81",
   "metadata": {},
   "source": [
    "Так как pvalue > 0.05 принимается нулевая гипотеза, т.е. статистически значимых различий выявлено"
   ]
  },
  {
   "cell_type": "code",
   "execution_count": 117,
   "id": "9a44dac8-bc85-4987-bb11-75ce787d5a4e",
   "metadata": {
    "tags": []
   },
   "outputs": [
    {
     "data": {
      "text/plain": [
       "KstestResult(statistic=0.7443502263331446, pvalue=3.4769340937348253e-46, statistic_location=1.25, statistic_sign=-1)"
      ]
     },
     "execution_count": 117,
     "metadata": {},
     "output_type": "execute_result"
    }
   ],
   "source": [
    "kstest(control_visit_all, 'norm')"
   ]
  },
  {
   "cell_type": "code",
   "execution_count": 118,
   "id": "38a05efc-c68a-4b5b-b079-f31ec5c7de50",
   "metadata": {
    "tags": []
   },
   "outputs": [
    {
     "data": {
      "text/plain": [
       "KstestResult(statistic=0.6885669682907651, pvalue=1.5788521734348758e-34, statistic_location=1.0, statistic_sign=-1)"
      ]
     },
     "execution_count": 118,
     "metadata": {},
     "output_type": "execute_result"
    }
   ],
   "source": [
    "kstest(test_visit_all, 'norm')"
   ]
  },
  {
   "cell_type": "markdown",
   "id": "6e08a60e-a63c-45c3-a4bb-139e6b8d9a66",
   "metadata": {},
   "source": [
    "pvalue < 0.05, следовательно нулевая гипотеза отвергается. Ненормальное распределение данных"
   ]
  },
  {
   "cell_type": "code",
   "execution_count": 119,
   "id": "b0b2ef70-845f-4de5-b857-a9a29450c0ba",
   "metadata": {
    "tags": []
   },
   "outputs": [],
   "source": [
    "def get_bootstrap(\n",
    "    data_column_1,\n",
    "    data_column_2,\n",
    "    boot_it = 1000,\n",
    "    statistic = np.mean,\n",
    "    bootstrap_conf_level = 0.95\n",
    "    ):\n",
    "    boot_len = max([len(data_column_1), len(data_column_2)])\n",
    "    boot_data = []\n",
    "    for i in tqdm(range(boot_it)):\n",
    "        samples_1 = data_column_1.sample(boot_len, replace = True).values       \n",
    "        samples_2 = data_column_2.sample(boot_len, replace = True).values\n",
    "        boot_data.append(statistic(samples_1)-statistic(samples_2))\n",
    "    pd_boot_data = pd.DataFrame(boot_data)\n",
    "        \n",
    "    left_quant = (1 - bootstrap_conf_level)/2\n",
    "    right_quant = 1 - (1 - bootstrap_conf_level) / 2\n",
    "    quants = pd_boot_data.quantile([left_quant, right_quant])\n",
    "        \n",
    "    p_1 = norm.cdf(x = 0, loc = np.mean(boot_data), scale = np.std(boot_data))\n",
    "    p_2 = norm.cdf(x = 0, loc = -np.mean(boot_data), scale = np.std(boot_data))\n",
    "    p_value = min(p_1, p_2) * 2\n",
    "        \n",
    "    _, _, bars = plt.hist(pd_boot_data[0], bins = 50)\n",
    "    for bar in bars:\n",
    "        if abs(bar.get_x()) <= quants.iloc[0][0] or abs(bar.get_x()) >= quants.iloc[1][0]:\n",
    "            bar.set_facecolor('red')\n",
    "        else: \n",
    "            bar.set_facecolor('lightgrey')\n",
    "            bar.set_edgecolor('black')\n",
    "    \n",
    "    plt.style.use('ggplot')\n",
    "    plt.vlines(quants,ymin=0,ymax=200,linestyle='-', color = 'b')\n",
    "    plt.xlabel('Значение метрики')\n",
    "    plt.ylabel('Частота')\n",
    "    plt.title(\"Гистограмма распределения\")\n",
    "    plt.show()\n",
    "       \n",
    "    return {\"quants\": quants, \n",
    "            \"p_value\": p_value}"
   ]
  },
  {
   "cell_type": "code",
   "execution_count": 120,
   "id": "379bc09d-3975-4f31-86c4-8513dd179d57",
   "metadata": {
    "tags": []
   },
   "outputs": [],
   "source": [
    "def bootstrap(data, func):\n",
    "    boots = np.random.choice(data, len(data))\n",
    "    return func(boots)\n",
    "\n",
    "def bootstrapping(data, func=np.mean, size=1):\n",
    "    reps = np.empty(size)\n",
    "    for i in range(size):\n",
    "        reps[i] = bootstrap(data, func)\n",
    "    return reps"
   ]
  },
  {
   "cell_type": "code",
   "execution_count": 121,
   "id": "0fd3de80-d67a-46ba-bcb6-be19c37e63b4",
   "metadata": {
    "tags": []
   },
   "outputs": [
    {
     "name": "stderr",
     "output_type": "stream",
     "text": [
      "100%|██████████| 10000/10000 [00:04<00:00, 2205.33it/s]\n"
     ]
    },
    {
     "data": {
      "image/png": "[encoded data removed]",
      "text/plain": [
       "<Figure size 800x550 with 1 Axes>"
      ]
     },
     "metadata": {},
     "output_type": "display_data"
    },
    {
     "name": "stdout",
     "output_type": "stream",
     "text": [
      "p_value 0.2099248089278548\n"
     ]
    }
   ],
   "source": [
    "plt.style.use(\"seaborn-v0_8\")\n",
    "pd.options.display.float_format = '{:,.2f}'.format\n",
    "\n",
    "booted_data = get_bootstrap(data['REVENUE'][data['VARIANT_NAME']=='control'],\n",
    "                            data['REVENUE'][data['VARIANT_NAME']=='variant'],\n",
    "                            boot_it = 10000)\n",
    "\n",
    "print('p_value', booted_data['p_value'])"
   ]
  },
  {
   "cell_type": "code",
   "execution_count": null,
   "id": "470f2f9c-c18a-48ec-9529-abcb981917c5",
   "metadata": {},
   "outputs": [],
   "source": [
    "Так как p_value > 0.05 статистически значимых различий выявлено. Не отвергаем нулевую гипотезу, оставляем контрольную версию. \n"
   ]
  },
  {
   "cell_type": "code",
   "execution_count": null,
   "id": "17f762ab-068f-4872-9ffa-24ccb99606b7",
   "metadata": {},
   "outputs": [],
   "source": []
  }
 ],
 "metadata": {
  "kernelspec": {
   "display_name": "Python 3 (ipykernel)",
   "language": "python",
   "name": "python3"
  },
  "language_info": {
   "codemirror_mode": {
    "name": "ipython",
    "version": 3
   },
   "file_extension": ".py",
   "mimetype": "text/x-python",
   "name": "python",
   "nbconvert_exporter": "python",
   "pygments_lexer": "ipython3",
   "version": "3.11.4"
  }
 },
 "nbformat": 4,
 "nbformat_minor": 5
}
